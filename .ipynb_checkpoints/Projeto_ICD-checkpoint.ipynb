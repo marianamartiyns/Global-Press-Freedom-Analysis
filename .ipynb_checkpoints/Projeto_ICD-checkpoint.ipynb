{
 "cells": [
  {
   "cell_type": "markdown",
   "id": "3e30464c",
   "metadata": {},
   "source": [
    "# Projeto ICD \n",
    "## - World press freedom score -\n",
    "\n",
    "\n",
    "\n",
    "### Participantes:\n",
    "- CLEYDSON DE SOUZA FERREIRA JUNIOR\n",
    "- FELIPE GONTIJO SIQUEIRA\n",
    "- MARIANA DA SILVA MARTINS"
   ]
  },
  {
   "cell_type": "markdown",
   "id": "9bcee534",
   "metadata": {},
   "source": [
    "# Medidas de centralidade:"
   ]
  },
  {
   "cell_type": "code",
   "execution_count": null,
   "id": "88ee03bd",
   "metadata": {},
   "outputs": [],
   "source": []
  },
  {
   "cell_type": "markdown",
   "id": "37db9c0a",
   "metadata": {},
   "source": [
    "# Medidas de dispersão:"
   ]
  },
  {
   "cell_type": "code",
   "execution_count": null,
   "id": "4fb98f27",
   "metadata": {},
   "outputs": [],
   "source": []
  },
  {
   "cell_type": "markdown",
   "id": "caa987f7",
   "metadata": {},
   "source": [
    "# Possíveis boxplots de acordo com as variáveis:"
   ]
  },
  {
   "cell_type": "code",
   "execution_count": null,
   "id": "36d401a1",
   "metadata": {},
   "outputs": [],
   "source": []
  }
 ],
 "metadata": {
  "kernelspec": {
   "display_name": "Python 3 (ipykernel)",
   "language": "python",
   "name": "python3"
  },
  "language_info": {
   "codemirror_mode": {
    "name": "ipython",
    "version": 3
   },
   "file_extension": ".py",
   "mimetype": "text/x-python",
   "name": "python",
   "nbconvert_exporter": "python",
   "pygments_lexer": "ipython3",
   "version": "3.10.9"
  }
 },
 "nbformat": 4,
 "nbformat_minor": 5
}
