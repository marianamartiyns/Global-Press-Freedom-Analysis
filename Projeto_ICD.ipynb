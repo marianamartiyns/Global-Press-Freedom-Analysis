{
 "cells": [
  {
   "cell_type": "markdown",
   "id": "3e30464c",
   "metadata": {},
   "source": [
    "# Projeto ICD \n",
    "## - World press freedom score -\n",
    "\n",
    "\n",
    "\n",
    "### Participantes:\n",
    "- CLEYDSON DE SOUZA FERREIRA JUNIOR\n",
    "- FELIPE GONTIJO SIQUEIRA\n",
    "- MARIANA DA SILVA MARTINS\n",
    "\n",
    "### Perguntas:\n",
    "1. A média de liberdade aumenta ou diminui conforme a segurança do país?\n",
    "2. Como o fator econômico influencia o contexto sociocultural e o de segurança?\n",
    "3. Qual país possui o pior contexto econômico juntamente com menor histórico de abuso?"
   ]
  },
  {
   "cell_type": "markdown",
   "id": "9bcee534",
   "metadata": {},
   "source": [
    "# Medidas de centralidade:"
   ]
  },
  {
   "cell_type": "code",
   "execution_count": 10,
   "id": "88ee03bd",
   "metadata": {},
   "outputs": [
    {
     "name": "stdout",
     "output_type": "stream",
     "text": [
      "As medianas disponiveis são: \n",
      "\n",
      "Political Context 2022             55.820\n",
      "Economic Context 2022              42.365\n",
      "Legal Framework 2022               66.080\n",
      "Safety Score 2022                  66.665\n",
      "Sociocultural Context 2022         68.900\n",
      "Abuse Score 2021                   13.860\n",
      "Underlying Situation Score 2021    31.575\n",
      "Global Score 2022                  59.145\n",
      "Global Score 2021                  31.690\n",
      "Global Score 2020                  31.050\n",
      "Global Score 2019                  31.195\n",
      "dtype: float64\n",
      "------------------------------\n",
      "As médias disponíveis são: \n",
      "\n",
      "Political Context 2022             57.068667\n",
      "Economic Context 2022              45.063556\n",
      "Legal Framework 2022               62.634611\n",
      "Safety Score 2022                  60.402889\n",
      "Sociocultural Context 2022         66.337056\n",
      "Abuse Score 2021                   20.800500\n",
      "Underlying Situation Score 2021    34.603944\n",
      "Global Score 2022                  58.231389\n",
      "Global Score 2021                  35.081722\n",
      "Global Score 2020                  34.799722\n",
      "Global Score 2019                  35.017889\n",
      "dtype: float64\n"
     ]
    }
   ],
   "source": [
    "import pandas as pd \n",
    "import numpy as np\n",
    "import seaborn as sns\n",
    "\n",
    "\n",
    "df = pd.read_csv('World Press Freedom Score (2019-2022).csv')\n",
    "\n",
    "df = df.drop(columns = ['Ranking'])\n",
    "\n",
    "\n",
    "print(\"As medianas disponiveis são: \\n\")\n",
    "print(df.median(numeric_only = True))\n",
    "\n",
    "print(\"-\"*30)\n",
    "\n",
    "print(\"As médias disponíveis são: \\n\")\n",
    "print(df.mean(numeric_only = True))\n",
    "\n",
    "\n",
    "\n",
    "\n"
   ]
  },
  {
   "cell_type": "markdown",
   "id": "37db9c0a",
   "metadata": {},
   "source": [
    "# Medidas de dispersão:"
   ]
  },
  {
   "cell_type": "code",
   "execution_count": 11,
   "id": "4fb98f27",
   "metadata": {},
   "outputs": [
    {
     "name": "stdout",
     "output_type": "stream",
     "text": [
      "Variância:\n",
      "\n",
      "Political Context 2022             294.589080\n",
      "Economic Context 2022              277.868405\n",
      "Legal Framework 2022               326.952660\n",
      "Safety Score 2022                  593.835741\n",
      "Sociocultural Context 2022         325.346363\n",
      "Abuse Score 2021                   512.639632\n",
      "Underlying Situation Score 2021    247.895071\n",
      "Global Score 2022                  296.610335\n",
      "Global Score 2021                  250.620904\n",
      "Global Score 2020                  245.998481\n",
      "Global Score 2019                  249.155341\n",
      "dtype: float64\n",
      "------------------------------\n",
      "\n",
      "Desvio padrão:\n",
      "\n",
      "Political Context 2022             17.163598\n",
      "Economic Context 2022              16.669385\n",
      "Legal Framework 2022               18.081832\n",
      "Safety Score 2022                  24.368745\n",
      "Sociocultural Context 2022         18.037360\n",
      "Abuse Score 2021                   22.641547\n",
      "Underlying Situation Score 2021    15.744684\n",
      "Global Score 2022                  17.222379\n",
      "Global Score 2021                  15.831011\n",
      "Global Score 2020                  15.684339\n",
      "Global Score 2019                  15.784655\n",
      "dtype: float64\n"
     ]
    }
   ],
   "source": [
    "print(\"Variância:\\n\")\n",
    "print(df.var(numeric_only = True))\n",
    "\n",
    "print(\"-\"*30)\n",
    "\n",
    "print(\"\\nDesvio padrão:\\n\")\n",
    "print(df.std(numeric_only = True))"
   ]
  },
  {
   "cell_type": "markdown",
   "id": "caa987f7",
   "metadata": {},
   "source": [
    "# Possíveis boxplots de acordo com as variáveis:"
   ]
  },
  {
   "cell_type": "code",
   "execution_count": null,
   "id": "e3bacbbb",
   "metadata": {},
   "outputs": [],
   "source": []
  }
 ],
 "metadata": {
  "kernelspec": {
   "display_name": "Python 3 (ipykernel)",
   "language": "python",
   "name": "python3"
  },
  "language_info": {
   "codemirror_mode": {
    "name": "ipython",
    "version": 3
   },
   "file_extension": ".py",
   "mimetype": "text/x-python",
   "name": "python",
   "nbconvert_exporter": "python",
   "pygments_lexer": "ipython3",
   "version": "3.9.13"
  }
 },
 "nbformat": 4,
 "nbformat_minor": 5
}
