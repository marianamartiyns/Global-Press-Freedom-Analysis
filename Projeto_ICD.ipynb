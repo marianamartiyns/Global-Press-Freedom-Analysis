{
 "cells": [
  {
   "cell_type": "markdown",
   "id": "3e30464c",
   "metadata": {},
   "source": [
    "# Projeto ICD \n",
    "## - World press freedom score -\n",
    "\n",
    "\n",
    "\n",
    "### Participantes:\n",
    "- CLEYDSON DE SOUZA FERREIRA JUNIOR\n",
    "- FELIPE GONTIJO SIQUEIRA\n",
    "- MARIANA DA SILVA MARTINS\n",
    "\n",
    "### Perguntas:\n",
    "1. A média de liberdade aumenta ou diminui conforme a segurança do país?\n",
    "2. Como o fator econômico influencia o contexto sociocultural e o de segurança?\n",
    "3. Qual país possui o pior contexto econômico juntamente com menor histórico de abuso?"
   ]
  },
  {
   "cell_type": "markdown",
   "id": "9bcee534",
   "metadata": {},
   "source": [
    "# Medidas de centralidade:"
   ]
  },
  {
   "cell_type": "code",
   "execution_count": 5,
   "id": "88ee03bd",
   "metadata": {},
   "outputs": [
    {
     "data": {
      "text/html": [
       "<div>\n",
       "<style scoped>\n",
       "    .dataframe tbody tr th:only-of-type {\n",
       "        vertical-align: middle;\n",
       "    }\n",
       "\n",
       "    .dataframe tbody tr th {\n",
       "        vertical-align: top;\n",
       "    }\n",
       "\n",
       "    .dataframe thead th {\n",
       "        text-align: right;\n",
       "    }\n",
       "</style>\n",
       "<table border=\"1\" class=\"dataframe\">\n",
       "  <thead>\n",
       "    <tr style=\"text-align: right;\">\n",
       "      <th></th>\n",
       "      <th>Country</th>\n",
       "      <th>Political Context 2022</th>\n",
       "      <th>Economic Context 2022</th>\n",
       "      <th>Legal Framework 2022</th>\n",
       "      <th>Safety Score 2022</th>\n",
       "      <th>Sociocultural Context 2022</th>\n",
       "      <th>Abuse Score 2021</th>\n",
       "      <th>Underlying Situation Score 2021</th>\n",
       "      <th>Global Score 2022</th>\n",
       "      <th>Global Score 2021</th>\n",
       "      <th>Global Score 2020</th>\n",
       "      <th>Global Score 2019</th>\n",
       "    </tr>\n",
       "  </thead>\n",
       "  <tbody>\n",
       "    <tr>\n",
       "      <th>0</th>\n",
       "      <td>Norway</td>\n",
       "      <td>94.89</td>\n",
       "      <td>90.38</td>\n",
       "      <td>92.23</td>\n",
       "      <td>92.03</td>\n",
       "      <td>93.71</td>\n",
       "      <td>0.00</td>\n",
       "      <td>6.72</td>\n",
       "      <td>92.65</td>\n",
       "      <td>6.72</td>\n",
       "      <td>7.84</td>\n",
       "      <td>7.82</td>\n",
       "    </tr>\n",
       "    <tr>\n",
       "      <th>1</th>\n",
       "      <td>Denmark</td>\n",
       "      <td>94.34</td>\n",
       "      <td>83.67</td>\n",
       "      <td>89.18</td>\n",
       "      <td>92.97</td>\n",
       "      <td>91.17</td>\n",
       "      <td>0.00</td>\n",
       "      <td>8.57</td>\n",
       "      <td>90.27</td>\n",
       "      <td>8.57</td>\n",
       "      <td>8.13</td>\n",
       "      <td>9.87</td>\n",
       "    </tr>\n",
       "    <tr>\n",
       "      <th>2</th>\n",
       "      <td>Sweden</td>\n",
       "      <td>91.96</td>\n",
       "      <td>87.66</td>\n",
       "      <td>90.27</td>\n",
       "      <td>84.14</td>\n",
       "      <td>90.18</td>\n",
       "      <td>0.00</td>\n",
       "      <td>7.24</td>\n",
       "      <td>88.84</td>\n",
       "      <td>7.24</td>\n",
       "      <td>9.25</td>\n",
       "      <td>8.31</td>\n",
       "    </tr>\n",
       "    <tr>\n",
       "      <th>3</th>\n",
       "      <td>Estonia</td>\n",
       "      <td>91.11</td>\n",
       "      <td>81.97</td>\n",
       "      <td>87.87</td>\n",
       "      <td>93.20</td>\n",
       "      <td>90.00</td>\n",
       "      <td>0.00</td>\n",
       "      <td>15.25</td>\n",
       "      <td>88.83</td>\n",
       "      <td>15.25</td>\n",
       "      <td>12.61</td>\n",
       "      <td>12.27</td>\n",
       "    </tr>\n",
       "    <tr>\n",
       "      <th>4</th>\n",
       "      <td>Finland</td>\n",
       "      <td>90.40</td>\n",
       "      <td>82.03</td>\n",
       "      <td>86.64</td>\n",
       "      <td>92.26</td>\n",
       "      <td>90.77</td>\n",
       "      <td>0.00</td>\n",
       "      <td>6.99</td>\n",
       "      <td>88.42</td>\n",
       "      <td>6.99</td>\n",
       "      <td>7.93</td>\n",
       "      <td>7.90</td>\n",
       "    </tr>\n",
       "    <tr>\n",
       "      <th>...</th>\n",
       "      <td>...</td>\n",
       "      <td>...</td>\n",
       "      <td>...</td>\n",
       "      <td>...</td>\n",
       "      <td>...</td>\n",
       "      <td>...</td>\n",
       "      <td>...</td>\n",
       "      <td>...</td>\n",
       "      <td>...</td>\n",
       "      <td>...</td>\n",
       "      <td>...</td>\n",
       "      <td>...</td>\n",
       "    </tr>\n",
       "    <tr>\n",
       "      <th>175</th>\n",
       "      <td>Myanmar</td>\n",
       "      <td>40.40</td>\n",
       "      <td>29.25</td>\n",
       "      <td>20.18</td>\n",
       "      <td>4.63</td>\n",
       "      <td>30.67</td>\n",
       "      <td>0.00</td>\n",
       "      <td>31.12</td>\n",
       "      <td>25.03</td>\n",
       "      <td>31.12</td>\n",
       "      <td>30.20</td>\n",
       "      <td>29.00</td>\n",
       "    </tr>\n",
       "    <tr>\n",
       "      <th>176</th>\n",
       "      <td>Turkmenistan</td>\n",
       "      <td>25.00</td>\n",
       "      <td>11.73</td>\n",
       "      <td>29.61</td>\n",
       "      <td>35.69</td>\n",
       "      <td>23.00</td>\n",
       "      <td>55.21</td>\n",
       "      <td>41.86</td>\n",
       "      <td>25.01</td>\n",
       "      <td>43.94</td>\n",
       "      <td>42.88</td>\n",
       "      <td>43.98</td>\n",
       "    </tr>\n",
       "    <tr>\n",
       "      <th>177</th>\n",
       "      <td>Iran</td>\n",
       "      <td>34.14</td>\n",
       "      <td>21.32</td>\n",
       "      <td>26.71</td>\n",
       "      <td>13.61</td>\n",
       "      <td>23.78</td>\n",
       "      <td>0.00</td>\n",
       "      <td>29.82</td>\n",
       "      <td>23.22</td>\n",
       "      <td>29.82</td>\n",
       "      <td>29.79</td>\n",
       "      <td>29.67</td>\n",
       "    </tr>\n",
       "    <tr>\n",
       "      <th>178</th>\n",
       "      <td>Eritrea</td>\n",
       "      <td>22.22</td>\n",
       "      <td>19.73</td>\n",
       "      <td>25.15</td>\n",
       "      <td>11.36</td>\n",
       "      <td>19.67</td>\n",
       "      <td>35.55</td>\n",
       "      <td>43.13</td>\n",
       "      <td>19.62</td>\n",
       "      <td>43.13</td>\n",
       "      <td>42.69</td>\n",
       "      <td>43.63</td>\n",
       "    </tr>\n",
       "    <tr>\n",
       "      <th>179</th>\n",
       "      <td>North Korea</td>\n",
       "      <td>22.42</td>\n",
       "      <td>0.00</td>\n",
       "      <td>22.81</td>\n",
       "      <td>12.38</td>\n",
       "      <td>12.00</td>\n",
       "      <td>13.86</td>\n",
       "      <td>21.65</td>\n",
       "      <td>13.92</td>\n",
       "      <td>21.59</td>\n",
       "      <td>22.93</td>\n",
       "      <td>22.23</td>\n",
       "    </tr>\n",
       "  </tbody>\n",
       "</table>\n",
       "<p>180 rows × 12 columns</p>\n",
       "</div>"
      ],
      "text/plain": [
       "          Country  Political Context 2022  Economic Context 2022   \n",
       "0          Norway                   94.89                  90.38  \\\n",
       "1         Denmark                   94.34                  83.67   \n",
       "2          Sweden                   91.96                  87.66   \n",
       "3         Estonia                   91.11                  81.97   \n",
       "4         Finland                   90.40                  82.03   \n",
       "..            ...                     ...                    ...   \n",
       "175       Myanmar                   40.40                  29.25   \n",
       "176  Turkmenistan                   25.00                  11.73   \n",
       "177          Iran                   34.14                  21.32   \n",
       "178       Eritrea                   22.22                  19.73   \n",
       "179   North Korea                   22.42                   0.00   \n",
       "\n",
       "     Legal Framework 2022  Safety Score 2022  Sociocultural Context 2022   \n",
       "0                   92.23              92.03                       93.71  \\\n",
       "1                   89.18              92.97                       91.17   \n",
       "2                   90.27              84.14                       90.18   \n",
       "3                   87.87              93.20                       90.00   \n",
       "4                   86.64              92.26                       90.77   \n",
       "..                    ...                ...                         ...   \n",
       "175                 20.18               4.63                       30.67   \n",
       "176                 29.61              35.69                       23.00   \n",
       "177                 26.71              13.61                       23.78   \n",
       "178                 25.15              11.36                       19.67   \n",
       "179                 22.81              12.38                       12.00   \n",
       "\n",
       "     Abuse Score 2021  Underlying Situation Score 2021  Global Score 2022   \n",
       "0                0.00                             6.72              92.65  \\\n",
       "1                0.00                             8.57              90.27   \n",
       "2                0.00                             7.24              88.84   \n",
       "3                0.00                            15.25              88.83   \n",
       "4                0.00                             6.99              88.42   \n",
       "..                ...                              ...                ...   \n",
       "175              0.00                            31.12              25.03   \n",
       "176             55.21                            41.86              25.01   \n",
       "177              0.00                            29.82              23.22   \n",
       "178             35.55                            43.13              19.62   \n",
       "179             13.86                            21.65              13.92   \n",
       "\n",
       "     Global Score 2021  Global Score 2020  Global Score 2019  \n",
       "0                 6.72               7.84               7.82  \n",
       "1                 8.57               8.13               9.87  \n",
       "2                 7.24               9.25               8.31  \n",
       "3                15.25              12.61              12.27  \n",
       "4                 6.99               7.93               7.90  \n",
       "..                 ...                ...                ...  \n",
       "175              31.12              30.20              29.00  \n",
       "176              43.94              42.88              43.98  \n",
       "177              29.82              29.79              29.67  \n",
       "178              43.13              42.69              43.63  \n",
       "179              21.59              22.93              22.23  \n",
       "\n",
       "[180 rows x 12 columns]"
      ]
     },
     "execution_count": 5,
     "metadata": {},
     "output_type": "execute_result"
    }
   ],
   "source": [
    "import pandas as pd \n",
    "import numpy as np\n",
    "import seaborn as sns\n",
    "\n",
    "df = pd.read_csv('F:\\Pastas pessoais\\github\\projeto_icd\\World_Press_Freedom_Score.csv')\n",
    "\n",
    "df = df.drop(columns = ['Ranking'])\n",
    "\n",
    "df"
   ]
  },
  {
   "cell_type": "code",
   "execution_count": 12,
   "id": "f472fe44",
   "metadata": {
    "scrolled": false
   },
   "outputs": [
    {
     "name": "stdout",
     "output_type": "stream",
     "text": [
      "As medianas disponiveis são: \n",
      "\n",
      "Political Context 2022             55.820\n",
      "Economic Context 2022              42.365\n",
      "Legal Framework 2022               66.080\n",
      "Safety Score 2022                  66.665\n",
      "Sociocultural Context 2022         68.900\n",
      "Abuse Score 2021                   13.860\n",
      "Underlying Situation Score 2021    31.575\n",
      "Global Score 2022                  59.145\n",
      "Global Score 2021                  31.690\n",
      "Global Score 2020                  31.050\n",
      "Global Score 2019                  31.195\n",
      "dtype: float64\n",
      "------------------------------\n",
      "As médias disponíveis são: \n",
      "\n",
      "Political Context 2022             57.068667\n",
      "Economic Context 2022              45.063556\n",
      "Legal Framework 2022               62.634611\n",
      "Safety Score 2022                  60.402889\n",
      "Sociocultural Context 2022         66.337056\n",
      "Abuse Score 2021                   20.800500\n",
      "Underlying Situation Score 2021    34.603944\n",
      "Global Score 2022                  58.231389\n",
      "Global Score 2021                  35.081722\n",
      "Global Score 2020                  34.799722\n",
      "Global Score 2019                  35.017889\n",
      "dtype: float64\n"
     ]
    }
   ],
   "source": [
    "print(\"As medianas disponiveis são: \\n\")\n",
    "print(df.median(numeric_only = True))\n",
    "\n",
    "print(\"-\"*30)\n",
    "\n",
    "print(\"As médias disponíveis são: \\n\")\n",
    "print(df.mean(numeric_only = True))"
   ]
  },
  {
   "cell_type": "markdown",
   "id": "37db9c0a",
   "metadata": {},
   "source": [
    "# Medidas de dispersão:"
   ]
  },
  {
   "cell_type": "code",
   "execution_count": 13,
   "id": "4fb98f27",
   "metadata": {},
   "outputs": [
    {
     "name": "stdout",
     "output_type": "stream",
     "text": [
      "Variância:\n",
      "\n",
      "Political Context 2022             294.589080\n",
      "Economic Context 2022              277.868405\n",
      "Legal Framework 2022               326.952660\n",
      "Safety Score 2022                  593.835741\n",
      "Sociocultural Context 2022         325.346363\n",
      "Abuse Score 2021                   512.639632\n",
      "Underlying Situation Score 2021    247.895071\n",
      "Global Score 2022                  296.610335\n",
      "Global Score 2021                  250.620904\n",
      "Global Score 2020                  245.998481\n",
      "Global Score 2019                  249.155341\n",
      "dtype: float64\n",
      "------------------------------\n",
      "\n",
      "Desvio padrão:\n",
      "\n",
      "Political Context 2022             17.163598\n",
      "Economic Context 2022              16.669385\n",
      "Legal Framework 2022               18.081832\n",
      "Safety Score 2022                  24.368745\n",
      "Sociocultural Context 2022         18.037360\n",
      "Abuse Score 2021                   22.641547\n",
      "Underlying Situation Score 2021    15.744684\n",
      "Global Score 2022                  17.222379\n",
      "Global Score 2021                  15.831011\n",
      "Global Score 2020                  15.684339\n",
      "Global Score 2019                  15.784655\n",
      "dtype: float64\n"
     ]
    }
   ],
   "source": [
    "print(\"Variância:\\n\")\n",
    "print(df.var(numeric_only = True))\n",
    "\n",
    "print(\"-\"*30)\n",
    "\n",
    "print(\"\\nDesvio padrão:\\n\")\n",
    "print(df.std(numeric_only = True))"
   ]
  },
  {
   "cell_type": "markdown",
   "id": "caa987f7",
   "metadata": {},
   "source": [
    "# Possíveis boxplots de acordo com as variáveis:"
   ]
  },
  {
   "cell_type": "markdown",
   "id": "7e624836",
   "metadata": {},
   "source": [
    "**Boxplot geral para todas as variáveis disponíveis:**"
   ]
  },
  {
   "cell_type": "code",
   "execution_count": 13,
   "id": "58aa6117",
   "metadata": {
    "scrolled": true
   },
   "outputs": [
    {
     "data": {
      "text/plain": [
       "<Axes: >"
      ]
     },
     "execution_count": 13,
     "metadata": {},
     "output_type": "execute_result"
    },
    {
     "data": {
      "image/png": "[encoded data removed]",
      "text/plain": [
       "<Figure size 640x480 with 1 Axes>"
      ]
     },
     "metadata": {},
     "output_type": "display_data"
    }
   ],
   "source": [
    "sns.boxplot(data=df, orient=\"h\")"
   ]
  },
  {
   "cell_type": "markdown",
   "id": "a7d54965",
   "metadata": {},
   "source": [
    "**Boxplots para a pergunta 2:** Como o fator econômico influencia o contexto sociocultural e o de segurança?"
   ]
  },
  {
   "cell_type": "code",
   "execution_count": 2,
   "id": "878349b3",
   "metadata": {},
   "outputs": [
    {
     "data": {
      "text/plain": [
       "<Axes: >"
      ]
     },
     "execution_count": 2,
     "metadata": {},
     "output_type": "execute_result"
    },
    {
     "data": {
      "image/png": "[encoded data removed]",
      "text/plain": [
       "<Figure size 640x480 with 1 Axes>"
      ]
     },
     "metadata": {},
     "output_type": "display_data"
    }
   ],
   "source": [
    "df.boxplot(column = [\"Economic Context 2022\", \"Sociocultural Context 2022\"])"
   ]
  },
  {
   "cell_type": "code",
   "execution_count": 3,
   "id": "0f32164e",
   "metadata": {
    "scrolled": true
   },
   "outputs": [
    {
     "data": {
      "text/plain": [
       "<Axes: >"
      ]
     },
     "execution_count": 3,
     "metadata": {},
     "output_type": "execute_result"
    },
    {
     "data": {
      "image/png": "[encoded data removed]",
      "text/plain": [
       "<Figure size 640x480 with 1 Axes>"
      ]
     },
     "metadata": {},
     "output_type": "display_data"
    }
   ],
   "source": [
    "df.boxplot(column = [\"Economic Context 2022\", \"Safety Score 2022\"])"
   ]
  }
 ],
 "metadata": {
  "kernelspec": {
   "display_name": "Python 3 (ipykernel)",
   "language": "python",
   "name": "python3"
  },
  "language_info": {
   "codemirror_mode": {
    "name": "ipython",
    "version": 3
   },
   "file_extension": ".py",
   "mimetype": "text/x-python",
   "name": "python",
   "nbconvert_exporter": "python",
   "pygments_lexer": "ipython3",
   "version": "3.9.13"
  }
 },
 "nbformat": 4,
 "nbformat_minor": 5
}
