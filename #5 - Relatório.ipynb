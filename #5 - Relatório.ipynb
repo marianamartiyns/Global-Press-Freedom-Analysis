{
 "cells": [
  {
   "cell_type": "markdown",
   "id": "6b5331a8",
   "metadata": {},
   "source": [
    "## PROJETO ICD - World Press Freedom Score\n",
    "\n",
    "### Participantes:\n",
    "\n",
    "- CLEYDSON DE SOUZA FERREIRA JUNIOR\n",
    "- FELIPE GONTIJO SIQUEIRA\n",
    "- MARIANA DA SILVA MARTINS\n",
    "\n",
    "### Motivação e Objetivos da análise\n",
    "\n",
    "\n",
    "### Dados Usados\n",
    "\n",
    "Para o projeto, utilizamos o dataset <a href=\"https://www.kaggle.com/datasets/arjitgupta00/world-press-freedom-score-20192022\">World Press Freedom Score</a> ('Liberdade de imprensa') do kaggle. \n",
    "Este é um conjunto de dados composto por **180 países**, no quais foram ranqueado e avaliados em temas como *Abuse Score, Global Score 2019-22 , Political Context, Economic Context, Legal Framework, Safety Score, Sociocultural Context*.\n",
    "\n",
    "Analizamos os dados e concluiremos o projeto, com o conceito que a liberdade de imprensa é definida como a capacidade dos jornalistas como indivíduos e coletivos de selecionar, produzir e divulgar notícias de interesse público, independentemente de interferência POLÍTICA, ECONÔMICA, LEGAL e SOCIAL e na ausência de ameaças à sua SEGURANÇA física e mental.\n",
    "\n",
    "### Pré-processamento\n",
    "\n",
    "\n",
    "###  Perguntas \n",
    "\n",
    "<div class = 'alert alert-block alert-info'>\n",
    "    <p>1. A média de liberdade aumenta ou diminui conforme a segurança do país? <br>\n",
    "    2. Como o fator econômico influencia o contexto sociocultural e o de segurança? <br>\n",
    "    3. O quão relacionados estão os índices de contexto econômico e contexto político? São diretamente ou inversamente proporcionais?</p>\n",
    "</div>"
   ]
  },
  {
   "cell_type": "markdown",
   "id": "8471d750",
   "metadata": {},
   "source": [
    "### Conclusão"
   ]
  }
 ],
 "metadata": {
  "kernelspec": {
   "display_name": "Python 3 (ipykernel)",
   "language": "python",
   "name": "python3"
  },
  "language_info": {
   "codemirror_mode": {
    "name": "ipython",
    "version": 3
   },
   "file_extension": ".py",
   "mimetype": "text/x-python",
   "name": "python",
   "nbconvert_exporter": "python",
   "pygments_lexer": "ipython3",
   "version": "3.10.9"
  }
 },
 "nbformat": 4,
 "nbformat_minor": 5
}
